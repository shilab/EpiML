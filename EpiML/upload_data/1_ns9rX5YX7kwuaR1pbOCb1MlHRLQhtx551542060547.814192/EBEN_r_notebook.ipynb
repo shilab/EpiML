{
 "cells": [
  {
   "cell_type": "markdown",
   "metadata": {},
   "source": [
    "# Epistatic Analysis Notebook | ShiLab\n",
    "---"
   ]
  },
  {
   "cell_type": "markdown",
   "metadata": {},
   "source": [
    "## This is a Jupyter Notebook based on R kernel."
   ]
  },
  {
   "cell_type": "code",
   "execution_count": null,
   "metadata": {},
   "outputs": [],
   "source": [
    "# load library\n",
    "library('EBEN')\n",
    "library('r2d3')"
   ]
  },
  {
   "cell_type": "code",
   "execution_count": null,
   "metadata": {},
   "outputs": [],
   "source": [
    "# load data\n",
    "workspace <- './'\n",
    "x_filename <- 'Geno.txt'\n",
    "y_filename <- 'Pheno.txt'\n",
    "\n",
    "x <- read.table(\n",
    "  file = file.path(workspace, x_filename),\n",
    "  header = TRUE,\n",
    "  check.names=FALSE,\n",
    "  row.names = 1\n",
    ")\n",
    "sprintf('x size: (%d, %d)', nrow(x), ncol(x))\n",
    "x <- as.matrix(x)\n",
    "\n",
    "y <- read.table(\n",
    "  file = file.path(workspace, y_filename),\n",
    "  header = TRUE,\n",
    "  row.names = 1\n",
    ")\n",
    "sprintf('y size: (%d, %d)', nrow(y), ncol(y))\n",
    "y <- as.matrix(y)"
   ]
  },
  {
   "cell_type": "code",
   "execution_count": null,
   "metadata": {},
   "outputs": [],
   "source": [
    "nFolds <- 5\n",
    "max_percentages_miss_val <- 0.2\n",
    "seed <- 28213\n",
    "set.seed(seed)"
   ]
  },
  {
   "cell_type": "code",
   "execution_count": null,
   "metadata": {},
   "outputs": [],
   "source": [
    "# Filter the miRNA data with more than 20% missing data\n",
    "x_filtered <- NULL\n",
    "x_filtered_colnames <- NULL\n",
    "criteria <- trunc(nrow(x) * (1 - max_percentages_miss_val))\n",
    "for (i in 1:ncol(x)) {\n",
    "  if (sum(as.numeric(x[, i]) != 0) > criteria) {\n",
    "    x_filtered <- cbind(x_filtered, x[, i])\n",
    "    x_filtered_colnames<-c(x_filtered_colnames, colnames(x)[i])\n",
    "  }\n",
    "}\n",
    "colnames(x_filtered)<-x_filtered_colnames\n",
    "# colnames of x_filtered is same with x\n",
    "\n",
    "# Quantile normalization\n",
    "x_filtered_normed <- x_filtered\n",
    "for (sl in 1:ncol(x_filtered_normed)) {\n",
    "  mat = matrix(as.numeric(x_filtered_normed[, sl]), 1)\n",
    "  mat = t(apply(mat, 1, rank, ties.method = \"average\"))\n",
    "  mat = qnorm(mat / (nrow(x_filtered_normed) + 1))\n",
    "  x_filtered_normed[, sl] = mat\n",
    "}\n",
    "\n",
    "x_preprocessed <- x_filtered_normed\n",
    "rm(x_filtered, x_filtered_normed, sl, mat)"
   ]
  },
  {
   "cell_type": "code",
   "execution_count": null,
   "metadata": {},
   "outputs": [],
   "source": [
    "# Main effect estimated using EBEN\n",
    "CV = EBelasticNet.GaussianCV(x_preprocessed, y, nFolds = nFolds, Epis = \"no\")\n",
    "Blup1 = EBelasticNet.Gaussian(\n",
    "  x_preprocessed,\n",
    "  y,\n",
    "  lambda = CV$Lambda_optimal,\n",
    "  alpha = CV$Alpha_optimal,\n",
    "  Epis = \"no\",\n",
    "  verbose = 0\n",
    ")\n",
    "Blup_main_sig = Blup1$weight[which(Blup1$weight[, 6] <= 0.05), ]"
   ]
  },
  {
   "cell_type": "code",
   "execution_count": null,
   "metadata": {},
   "outputs": [],
   "source": [
    "# Substract the main effect\n",
    "index_main <- Blup_main_sig[, 1]\n",
    "effect_main <- Blup_main_sig[, 3]\n",
    "y_new <- as.matrix(y) - x_preprocessed[, index_main] %*% (as.matrix(effect_main))"
   ]
  },
  {
   "cell_type": "code",
   "execution_count": null,
   "metadata": {},
   "outputs": [],
   "source": [
    "# Epistatic effect estimated using EBEN. This step may need a long time.\n",
    "CV_epis = EBelasticNet.GaussianCV(x_preprocessed, y_new, nFolds = nFolds, Epis = \"yes\")\n",
    "Blup_epis = EBelasticNet.Gaussian(\n",
    "  x_preprocessed,\n",
    "  y_new,\n",
    "  lambda =  CV_epis$Lambda_optimal,\n",
    "  alpha = CV_epis$Alpha_optimal,\n",
    "  Epis = \"yes\",\n",
    "  verbose = 0\n",
    ")\n",
    "Blup_epis_sig = Blup_epis$weight[which(Blup_epis$weight[, 6] <= 0.05), ]"
   ]
  },
  {
   "cell_type": "code",
   "execution_count": null,
   "metadata": {},
   "outputs": [],
   "source": [
    "# Final run\n",
    "main_epi_sig_id = rbind(Blup_main_sig[, 1:2], Blup_epis_sig[, 1:2])\n",
    "\n",
    "x_sig <- NULL\n",
    "for (i in 1:nrow(main_epi_sig_id)) {\n",
    "  if (main_epi_sig_id[i, 1] == main_epi_sig_id[i, 2]) {\n",
    "    x_sig <- cbind(x_sig, x_preprocessed[, main_epi_sig_id[i, 1]])\n",
    "  }\n",
    "  if (main_epi_sig_id[i, 1] != main_epi_sig_id[i, 2]) {\n",
    "    col <- x_preprocessed[, main_epi_sig_id[i, 1]] * x_preprocessed[, main_epi_sig_id[i, 2]]\n",
    "    x_sig <- cbind(x_sig, col)\n",
    "  }\n",
    "}\n",
    "\n",
    "# Quantile normalization \n",
    "x_sig_qnormed <- x_sig\n",
    "for (sl in 1:ncol(x_sig_qnormed)) {\n",
    "  mat = matrix(as.numeric(x_sig_qnormed[, sl]), 1)\n",
    "  mat = t(apply(mat, 1, rank, ties.method = \"average\"))\n",
    "  mat = qnorm(mat / (nrow(x_sig_qnormed) + 1))\n",
    "  x_sig_qnormed[, sl] = mat\n",
    "}\n",
    "rm(x_sig, sl, mat)\n",
    "\n",
    "CV_full = EBelasticNet.GaussianCV(x_sig_qnormed, y, nFolds = nFolds, Epis = \"no\")\n",
    "Blup_full = EBelasticNet.Gaussian(\n",
    "  x_sig_qnormed,\n",
    "  y,\n",
    "  lambda =  CV_full$Lambda_optimal,\n",
    "  alpha = CV_full$Alpha_optimal,\n",
    "  Epis = \"no\",\n",
    "  verbose = 0\n",
    ")\n",
    "Blup_full_sig =  Blup_full$weight[which(Blup_full$weight[, 6] <= 0.05),]\n",
    "Blup_full_sig[,1:2] <- main_epi_sig_id[Blup_full_sig[,1],1:2]\n",
    "\n",
    "main_result <- NULL\n",
    "epsi_result <- NULL\n",
    "for (i in 1:nrow(Blup_full_sig)) {\n",
    "  if (Blup_full_sig[i, 1] == Blup_full_sig[i, 2]) {\n",
    "    main_result <- rbind(main_result, c(colnames(x_preprocessed)[Blup_full_sig[i, 1]],Blup_full_sig[i,3:6]))\n",
    "  }\n",
    "  if (Blup_full_sig[i, 1] != Blup_full_sig[i, 2]) {\n",
    "    epsi_result <- rbind(epsi_result, c(colnames(x_preprocessed)[Blup_full_sig[i, 1]],colnames(x_preprocessed)[Blup_full_sig[i, 2]],Blup_full_sig[i,3:6]))\n",
    "  }\n",
    "}"
   ]
  },
  {
   "cell_type": "code",
   "execution_count": null,
   "metadata": {},
   "outputs": [],
   "source": [
    "# show head of main results\n",
    "colnames(main_result)<- c('feature','coefficent value','posterior variance','t-value','p-value')\n",
    "head(main_result)"
   ]
  },
  {
   "cell_type": "code",
   "execution_count": null,
   "metadata": {},
   "outputs": [],
   "source": [
    "# show head of epis results\n",
    "colnames(epsi_result)<- c('feature1','feature2','coefficent value','posterior variance','t-value','p-value')\n",
    "head(epsi_result)"
   ]
  },
  {
   "cell_type": "code",
   "execution_count": null,
   "metadata": {},
   "outputs": [],
   "source": [
    "# generate json\n",
    "# get all epsitasis nodes (unique)\n",
    "epsi_nodes <- c(epsi_result[, 1], epsi_result[, 2])\n",
    "epsi_nodes <- unique(epsi_nodes)\n",
    "json_str<-NULL\n",
    "for (i in 1:length(epsi_nodes)) {\n",
    "  f1 <- epsi_nodes[i]\n",
    "  f2 <- matrix(epsi_result[epsi_result[, 1] == f1, ],ncol=6)\n",
    "  f2[,2]<-sprintf('\"epis.%s\"', f2[,2])\n",
    "  element <- sprintf('{\"name\":\"epis.%s\",\"size\":%d,\"effects\":[%s]}', f1, nrow(f2), paste(f2[,2], collapse=',' ))\n",
    "  json_str <- c(json_str,element)\n",
    "}\n",
    "json_str<-sprintf('[%s]',paste(json_str, collapse=',' ))\n",
    "# circle network\n",
    "r2d3(data=json_str, script = \"vis_CN.js\", css = \"vis_CN.css\")"
   ]
  },
  {
   "cell_type": "code",
   "execution_count": null,
   "metadata": {},
   "outputs": [],
   "source": [
    "# for adjacent matrix\n",
    "epsi_nodes <- c(epsi_result[, 1], epsi_result[, 2])\n",
    "epsi_nodes <- unique(epsi_nodes)\n",
    "nodes_str<-NULL\n",
    "for (i in 1:length(epsi_nodes)) {\n",
    "  f1 <- epsi_nodes[i]\n",
    "  element<- sprintf('{\"name\":\"%s\",\"group\":\"Epistatic effect\",\"rank\": %d}',f1, 1)\n",
    "  nodes_str <- c(nodes_str,element)\n",
    "}\n",
    "nodes_str<-sprintf('\"nodes\":[%s]',paste(nodes_str, collapse=',' ))\n",
    "link_str<-NULL\n",
    "for(i in 1:nrow(epsi_result)){\n",
    "  source_index<- match(epsi_result[i,1], epsi_nodes)\n",
    "  target_index<- match(epsi_result[i,2], epsi_nodes)\n",
    "  coff<-as.numeric(epsi_result[i,3])\n",
    "  element<-sprintf('{\"source\":%d, \"target\":%d, \"coff\": %f}',source_index-1, target_index-1, coff)\n",
    "  link_str <- c(link_str,element)\n",
    "}\n",
    "\n",
    "link_str<-sprintf('\"links\":[%s]',paste(link_str, collapse=',' ))\n",
    "am_json<-sprintf('{%s,%s}',nodes_str,link_str)\n",
    "write(am_json,'am.json')\n",
    "r2d3( d3_version = 4, script = \"vis_AM.js\", css = \"vis_AM.css\", dependencies = \"d3-scale-chromatic.js\")"
   ]
  }
 ],
 "metadata": {
  "kernelspec": {
   "display_name": "R",
   "language": "R",
   "name": "ir"
  },
  "language_info": {
   "codemirror_mode": "r",
   "file_extension": ".r",
   "mimetype": "text/x-r-source",
   "name": "R",
   "pygments_lexer": "r",
   "version": "3.5.0"
  }
 },
 "nbformat": 4,
 "nbformat_minor": 2
}
